{
 "cells": [
  {
   "cell_type": "markdown",
   "metadata": {
    "id": "tBxHmZgQKODG"
   },
   "source": [
    "# 데이터과학 파이썬 10장 도전문제와 심화문제 풀이\n",
    "- 저자 : 천인국, 박동규, 강영민\n"
   ]
  },
  {
   "cell_type": "markdown",
   "metadata": {
    "id": "qM8e6uqLLaF1"
   },
   "source": [
    "### 심화문제 10.1"
   ]
  },
  {
   "cell_type": "code",
   "execution_count": null,
   "metadata": {
    "id": "FXlStDbesQ8h"
   },
   "outputs": [],
   "source": [
    "import numpy as np\r\n",
    "\r\n",
    "num_arr = np.arange(1,21)\r\n",
    "print(num_arr)\r\n",
    "\r\n",
    "print(num_arr[::-1])\r\n",
    "\r\n",
    "print(num_arr.sum())\r\n",
    "\r\n",
    "num_arr = num_arr.reshape(5, 4) # 5행 4열의 배열로 변경\r\n",
    "print(num_arr)"
   ]
  },
  {
   "cell_type": "markdown",
   "metadata": {
    "id": "X-Na0T1bsIF5"
   },
   "source": [
    "### 심화문제 10.2"
   ]
  },
  {
   "cell_type": "code",
   "execution_count": null,
   "metadata": {
    "id": "9OGYhQEZsSZB"
   },
   "outputs": [],
   "source": [
    "import numpy as np\r\n",
    "\r\n",
    "n_arr = np.arange(25).reshape(5,5)"
   ]
  },
  {
   "cell_type": "code",
   "execution_count": null,
   "metadata": {
    "id": "8CNw95kSsT9Z"
   },
   "outputs": [],
   "source": [
    "import numpy as np\r\n",
    "\r\n",
    "n_arr = np.arange(25).reshape(5,5)\r\n",
    "\r\n",
    "print('첫 원소 :', n_arr[0][0])\r\n",
    "print('마지막 원소 :', n_arr[-1][-1])"
   ]
  },
  {
   "cell_type": "code",
   "execution_count": null,
   "metadata": {
    "id": "CdJx9J2msVj6"
   },
   "outputs": [],
   "source": [
    "import numpy as np\r\n",
    "\r\n",
    "n_arr = np.arange(25).reshape(5,5)\r\n",
    "\r\n",
    "slice_arr = (n_arr[:2])\r\n",
    "print(slice_arr)"
   ]
  },
  {
   "cell_type": "code",
   "execution_count": null,
   "metadata": {
    "id": "m7pFX0r3sWvh"
   },
   "outputs": [],
   "source": [
    "import numpy as np\r\n",
    "\r\n",
    "n_arr = np.arange(25).reshape(5,5)\r\n",
    "\r\n",
    "slice_arr = (n_arr[2:])\r\n",
    "print(slice_arr)"
   ]
  },
  {
   "cell_type": "code",
   "execution_count": null,
   "metadata": {
    "id": "KG1ddGytsYKR"
   },
   "outputs": [],
   "source": [
    "import numpy as np\r\n",
    "\r\n",
    "n_arr = np.arange(25).reshape(5,5)\r\n",
    "\r\n",
    "slice_arr = (n_arr[:, ::2])\r\n",
    "print(slice_arr)"
   ]
  },
  {
   "cell_type": "code",
   "execution_count": null,
   "metadata": {
    "id": "oqG4wW-asZfh"
   },
   "outputs": [],
   "source": [
    "import numpy as np\r\n",
    "\r\n",
    "n_arr = np.arange(25).reshape(5,5)\r\n",
    "\r\n",
    "slice_arr = (n_arr[::2, ::2])\r\n",
    "print(slice_arr)"
   ]
  },
  {
   "cell_type": "code",
   "execution_count": null,
   "metadata": {
    "id": "-fS0Au_WsbFJ"
   },
   "outputs": [],
   "source": [
    "import numpy as np\r\n",
    "\r\n",
    "n_arr = np.arange(25).reshape(5,5)\r\n",
    "\r\n",
    "slice_arr = (n_arr[:2])\r\n",
    "slice_arr = slice_arr.reshape(5, 2)\r\n",
    "print(slice_arr)"
   ]
  },
  {
   "cell_type": "markdown",
   "metadata": {
    "id": "-nqg6ak_sIu6"
   },
   "source": [
    "### 심화문제 10.3"
   ]
  },
  {
   "cell_type": "code",
   "execution_count": null,
   "metadata": {
    "id": "a2OaFIm5sdTp"
   },
   "outputs": [],
   "source": [
    "import numpy as np\r\n",
    "\r\n",
    "np.random.seed(100)\r\n",
    "\r\n",
    "a = np.random.rand(3, 3, 3)\r\n",
    "\r\n",
    "print(a)"
   ]
  },
  {
   "cell_type": "code",
   "execution_count": null,
   "metadata": {
    "id": "-ZnpiDxnseMh"
   },
   "outputs": [],
   "source": [
    "import numpy as np\r\n",
    "\r\n",
    "np.random.seed(100)\r\n",
    "\r\n",
    "a = np.random.rand(3, 3, 3)\r\n",
    "\r\n",
    "print('a의 원소들 중 최댓값 :', np.max(a))"
   ]
  },
  {
   "cell_type": "code",
   "execution_count": null,
   "metadata": {
    "id": "MZSuTbxQsfnh"
   },
   "outputs": [],
   "source": [
    "import numpy as np\r\n",
    "\r\n",
    "np.random.seed(100)\r\n",
    "\r\n",
    "a = np.random.rand(3, 3, 3)\r\n",
    "\r\n",
    "print('a의 원소들 중 최댓값의 위치 :', np.argmax(a))"
   ]
  },
  {
   "cell_type": "markdown",
   "metadata": {
    "id": "3uB2InQOsI75"
   },
   "source": [
    "### 심화문제 10.4"
   ]
  },
  {
   "cell_type": "code",
   "execution_count": null,
   "metadata": {
    "id": "GEG7mB1cshOI"
   },
   "outputs": [],
   "source": [
    "import numpy as np\r\n",
    "\r\n",
    "n_arr = (np.arange(1, 26) % 2).reshape(5, 5)\r\n",
    "\r\n",
    "print(n_arr)"
   ]
  },
  {
   "cell_type": "code",
   "execution_count": null,
   "metadata": {
    "id": "1qQfOtafsiZB"
   },
   "outputs": [],
   "source": [
    "import numpy as np\r\n",
    "\r\n",
    "n_arr = (np.arange(1, 26) % 2).reshape(5, 5)\r\n",
    "\r\n",
    "sum_arr = n_arr.sum(axis = 0)\r\n",
    "\r\n",
    "print('행렬의 행 방향 성분의 합 : ')\r\n",
    "print(sum_arr)"
   ]
  },
  {
   "cell_type": "markdown",
   "metadata": {
    "id": "26WNZn_UsKp9"
   },
   "source": [
    "### 심화문제 10.5"
   ]
  },
  {
   "cell_type": "code",
   "execution_count": null,
   "metadata": {
    "id": "mBbgjngtsjv5"
   },
   "outputs": [],
   "source": [
    "import numpy as np\r\n",
    "\r\n",
    "a = np.arange(0, 32).reshape(4, 4, 2)\r\n",
    "\r\n",
    "a = a.flatten()\r\n",
    "\r\n",
    "print('10번째 원소 :', a[9])\r\n",
    "print('20번째 원소 :', a[19])"
   ]
  },
  {
   "cell_type": "markdown",
   "metadata": {
    "id": "bEbg7nqWsKxd"
   },
   "source": [
    "### 심화문제 10.6"
   ]
  },
  {
   "cell_type": "code",
   "execution_count": null,
   "metadata": {
    "id": "QhXwMQa7slP4"
   },
   "outputs": [],
   "source": [
    "import numpy as np\r\n",
    "\r\n",
    "x1 = [ i for i in range(100) ]\r\n",
    "x2 = [ i + np.random.randint(1, 10) for i in range(100) ]\r\n",
    "x3 = [ i + np.random.randint(1, 50) for i in range(100)]\r\n",
    "x4 = [ np.random.randint(1, 100) for i in range(100) ]\r\n",
    "\r\n",
    "result = np.corrcoef( [x1, x2, x3, x4] )\r\n",
    "print(result)"
   ]
  }
 ],
 "metadata": {
  "colab": {
   "collapsed_sections": [],
   "name": "10장_도전문제_심화문제.ipynb",
   "provenance": []
  },
  "kernelspec": {
   "display_name": "Python 3",
   "language": "python",
   "name": "python3"
  },
  "language_info": {
   "codemirror_mode": {
    "name": "ipython",
    "version": 3
   },
   "file_extension": ".py",
   "mimetype": "text/x-python",
   "name": "python",
   "nbconvert_exporter": "python",
   "pygments_lexer": "ipython3",
   "version": "3.8.8"
  }
 },
 "nbformat": 4,
 "nbformat_minor": 4
}
